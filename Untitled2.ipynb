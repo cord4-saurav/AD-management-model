{
 "cells": [
  {
   "cell_type": "code",
   "execution_count": null,
   "id": "53d98a7b",
   "metadata": {},
   "outputs": [],
   "source": [
    "pip install nltk"
   ]
  },
  {
   "cell_type": "code",
   "execution_count": null,
   "id": "f9b84729",
   "metadata": {},
   "outputs": [],
   "source": [
    "import nltk"
   ]
  },
  {
   "cell_type": "code",
   "execution_count": null,
   "id": "e65aefc0",
   "metadata": {},
   "outputs": [],
   "source": [
    "import string\n",
    "from nltk.corpus import stopwords"
   ]
  },
  {
   "cell_type": "code",
   "execution_count": null,
   "id": "0b13935e",
   "metadata": {},
   "outputs": [],
   "source": []
  },
  {
   "cell_type": "code",
   "execution_count": null,
   "id": "fade0687",
   "metadata": {},
   "outputs": [],
   "source": [
    "stopwords.words('eglish')[0:10]"
   ]
  },
  {
   "cell_type": "code",
   "execution_count": null,
   "id": "152e459f",
   "metadata": {},
   "outputs": [],
   "source": [
    "test_sentences = 'This is my first sentence . WOW I am doing just fine'"
   ]
  },
  {
   "cell_type": "code",
   "execution_count": null,
   "id": "ddbce876",
   "metadata": {},
   "outputs": [],
   "source": [
    "no_punctuation = [char for char in test_sentences if char not in string.punctuation]\n",
    "no_punctuation"
   ]
  },
  {
   "cell_type": "code",
   "execution_count": null,
   "id": "1d1ef352",
   "metadata": {},
   "outputs": [],
   "source": [
    "no_punctuation = ''.join(no_punctuation)"
   ]
  },
  {
   "cell_type": "code",
   "execution_count": null,
   "id": "f5690063",
   "metadata": {},
   "outputs": [],
   "source": [
    "no_punctuation"
   ]
  },
  {
   "cell_type": "code",
   "execution_count": null,
   "id": "aab85b7c",
   "metadata": {},
   "outputs": [],
   "source": [
    "no_punctuation.split()"
   ]
  },
  {
   "cell_type": "code",
   "execution_count": null,
   "id": "4e1c8de8",
   "metadata": {},
   "outputs": [],
   "source": [
    "clean_sentence = [word for word in no_punctuation.split() if word.lower() not in stopwords.words('english')]"
   ]
  },
  {
   "cell_type": "code",
   "execution_count": null,
   "id": "24558de6",
   "metadata": {},
   "outputs": [],
   "source": [
    "clean_sentence"
   ]
  },
  {
   "cell_type": "code",
   "execution_count": null,
   "id": "a077cf1d",
   "metadata": {},
   "outputs": [],
   "source": []
  }
 ],
 "metadata": {
  "kernelspec": {
   "display_name": "Python 3 (ipykernel)",
   "language": "python",
   "name": "python3"
  },
  "language_info": {
   "codemirror_mode": {
    "name": "ipython",
    "version": 3
   },
   "file_extension": ".py",
   "mimetype": "text/x-python",
   "name": "python",
   "nbconvert_exporter": "python",
   "pygments_lexer": "ipython3",
   "version": "3.8.10"
  }
 },
 "nbformat": 4,
 "nbformat_minor": 5
}
